{
 "cells": [
  {
   "cell_type": "code",
   "execution_count": 1,
   "id": "2a250bc9-aae4-494e-bc71-7c4142b6b8b1",
   "metadata": {},
   "outputs": [
    {
     "name": "stdout",
     "output_type": "stream",
     "text": [
      "/home/osamaahmed17/Desktop/Google Summer Of Code/gsoc2023_task1/gsoc2023_task1\n"
     ]
    }
   ],
   "source": [
    "cd gsoc2023_task1"
   ]
  },
  {
   "cell_type": "code",
   "execution_count": 2,
   "id": "5c18b997-23e0-44d8-8a0c-985baf4d2377",
   "metadata": {},
   "outputs": [
    {
     "name": "stdout",
     "output_type": "stream",
     "text": [
      "Starting KernelConnector Kernel Extension\n"
     ]
    }
   ],
   "source": [
    "load_ext readingKernel"
   ]
  },
  {
   "cell_type": "code",
   "execution_count": 4,
   "id": "8678cfb4-3f9b-4f98-8b85-eae40f58c53d",
   "metadata": {},
   "outputs": [
    {
     "name": "stdout",
     "output_type": "stream",
     "text": [
      "Starting KernelConnector Kernel Extension\n",
      "communitcation registered\n"
     ]
    }
   ],
   "source": [
    "reload_ext readingKernel"
   ]
  },
  {
   "cell_type": "code",
   "execution_count": 5,
   "id": "3073ab05-a6dc-425c-835e-3e642d9e14d7",
   "metadata": {},
   "outputs": [
    {
     "name": "stdout",
     "output_type": "stream",
     "text": [
      "Starting KernelConnector Kernel Extension\n",
      "communitcation registered\n"
     ]
    }
   ],
   "source": [
    "reload_ext readingKernel"
   ]
  },
  {
   "cell_type": "code",
   "execution_count": null,
   "id": "430d5884-ff6f-4c9c-9f52-5d70bf270542",
   "metadata": {},
   "outputs": [],
   "source": []
  }
 ],
 "metadata": {
  "kernelspec": {
   "display_name": "Python 3 (ipykernel)",
   "language": "python",
   "name": "python3"
  },
  "language_info": {
   "codemirror_mode": {
    "name": "ipython",
    "version": 3
   },
   "file_extension": ".py",
   "mimetype": "text/x-python",
   "name": "python",
   "nbconvert_exporter": "python",
   "pygments_lexer": "ipython3",
   "version": "3.10.9"
  }
 },
 "nbformat": 4,
 "nbformat_minor": 5
}
